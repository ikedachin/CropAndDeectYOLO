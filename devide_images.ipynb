{
 "cells": [
  {
   "cell_type": "markdown",
   "metadata": {},
   "source": [
    "# labelmeのアノテーションデータがない画像データ用"
   ]
  },
  {
   "cell_type": "markdown",
   "metadata": {},
   "source": [
    "# Library"
   ]
  },
  {
   "cell_type": "code",
   "execution_count": 1,
   "metadata": {},
   "outputs": [],
   "source": [
    "import os\n",
    "import glob\n",
    "import json\n",
    "import numpy as np\n",
    "import pandas as pd\n",
    "\n",
    "from PIL import Image\n",
    "import matplotlib.pyplot as plt\n",
    "import cv2\n",
    "\n",
    "import tqdm\n"
   ]
  },
  {
   "cell_type": "markdown",
   "metadata": {},
   "source": [
    "# define ImageDevider class "
   ]
  },
  {
   "cell_type": "code",
   "execution_count": 5,
   "metadata": {},
   "outputs": [],
   "source": [
    "# 推論用、画像分類用（アノテーションデータなし）\n",
    "class ImageDevider():\n",
    "    \"\"\"\n",
    "    画像分割プログラム\n",
    "    アノテーションファイルが無くても動きます。\n",
    "    分割後のファイルには「元のファイル名」+「二桁の連番」+「拡張子」となります。<-推論後に活用ください\n",
    "    initializer args\n",
    "    out_y: 出力のy軸ピクセル数\n",
    "    out_x: 出力のx軸ピクセル数\n",
    "    overlap: 切り取る時の隣とオーバーラップさせるピクセル数\n",
    "    output_img_folder: 切り取った画像を保存するファイルパス\n",
    "    \"\"\"\n",
    "    def __init__(self, out_y: int, out_x: int, overlap: int, output_img_folder: str) -> None:\n",
    "        self.out_y = out_y\n",
    "        self.out_x = out_x\n",
    "        self.overlap = overlap\n",
    "        self.output_img_folder = output_img_folder\n",
    "\n",
    "    def devide_image(self, image_file: str) -> None:\n",
    "        \"\"\"\n",
    "        arg1: image_file 画像ファイルへのパス\n",
    "        \"\"\"\n",
    "        img = Image.open(image_file)\n",
    "        # open images, get height & width\n",
    "        img_array = np.array(img)\n",
    "        in_y, in_x, _ = img_array.shape\n",
    "        \n",
    "        num_images_y = in_y // self.out_y\n",
    "        num_images_x = in_x // self.out_x\n",
    "\n",
    "        # if crop images are lack at righet & bottom, num of image +1\n",
    "        if in_y - num_images_y * (self.out_y - self.overlap) > self.overlap:\n",
    "            num_images_y += 1\n",
    "        if in_x- num_images_x * (self.out_x - self.overlap) > self.overlap:\n",
    "            num_images_x += 1\n",
    "\n",
    "        basename = os.path.basename(image_file).split('.')[0]\n",
    "\n",
    "        # set index to create save-file name\n",
    "        index = 0\n",
    "\n",
    "        # crop file to small size\n",
    "        for i in range(num_images_y):\n",
    "            for j in range(num_images_x):\n",
    "                start_y = np.maximum(0, i * (self.out_y - self.overlap))\n",
    "                start_x = np.maximum(0, j * (self.out_x - self.overlap))\n",
    "                end_y = i * (self.out_y - self.overlap) + self.out_y\n",
    "                end_x = j * (self.out_x - self.overlap) + self.out_x\n",
    "                output_array = img_array[start_y: end_y, start_x: end_x]\n",
    "                \n",
    "                img = cv2.copyMakeBorder(output_array, \n",
    "                                   0, self.out_y - output_array.shape[0], \n",
    "                                   0, self.out_x - output_array.shape[1], \n",
    "                                   cv2.BORDER_CONSTANT, \n",
    "                                   0)\n",
    "                img = cv2.cvtColor(img, cv2.COLOR_BGR2RGB)\n",
    "                img = cv2.resize(img, (640, 640))\n",
    "                cv2.imwrite(self.output_img_folder + f'{basename}_{index:02}.png', img)\n",
    "                index += 1"
   ]
  },
  {
   "cell_type": "markdown",
   "metadata": {},
   "source": [
    "# 使い方"
   ]
  },
  {
   "cell_type": "code",
   "execution_count": 6,
   "metadata": {},
   "outputs": [],
   "source": [
    "crop_man_train = ImageDevider(1280, 1280, 256, '/output_folder/')"
   ]
  },
  {
   "cell_type": "code",
   "execution_count": 8,
   "metadata": {},
   "outputs": [
    {
     "name": "stderr",
     "output_type": "stream",
     "text": [
      "100%|██████████| 193/193 [00:15<00:00, 12.20it/s]\n"
     ]
    }
   ],
   "source": [
    "crop_man_train.devide_image('./images/image001.jpeg')"
   ]
  }
 ],
 "metadata": {
  "kernelspec": {
   "display_name": "yolo_env",
   "language": "python",
   "name": "python3"
  },
  "language_info": {
   "codemirror_mode": {
    "name": "ipython",
    "version": 3
   },
   "file_extension": ".py",
   "mimetype": "text/x-python",
   "name": "python",
   "nbconvert_exporter": "python",
   "pygments_lexer": "ipython3",
   "version": "3.10.8"
  },
  "orig_nbformat": 4
 },
 "nbformat": 4,
 "nbformat_minor": 2
}
