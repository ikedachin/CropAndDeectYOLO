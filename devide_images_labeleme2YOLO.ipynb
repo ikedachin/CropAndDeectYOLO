{
 "cells": [
  {
   "cell_type": "markdown",
   "metadata": {},
   "source": [
    "# labelmeでアノテーションした画像を分割するプログラム\n"
   ]
  },
  {
   "cell_type": "markdown",
   "metadata": {},
   "source": [
    "# Library"
   ]
  },
  {
   "cell_type": "code",
   "execution_count": 1,
   "metadata": {},
   "outputs": [],
   "source": [
    "import os\n",
    "import glob\n",
    "import json\n",
    "import numpy as np\n",
    "import pandas as pd\n",
    "\n",
    "from PIL import Image\n",
    "import matplotlib.pyplot as plt\n",
    "import cv2\n",
    "\n",
    "import tqdm\n"
   ]
  },
  {
   "cell_type": "code",
   "execution_count": null,
   "metadata": {},
   "outputs": [],
   "source": [
    "label2index = {\n",
    "    'apple': 0,\n",
    "    'banana': 1\n",
    "}\n",
    "\n",
    "index2label = {\n",
    "    0: 'apple',\n",
    "    1: 'banana'\n",
    "}"
   ]
  },
  {
   "cell_type": "markdown",
   "metadata": {},
   "source": [
    "# define \"ImageDevider_labelme2YOLO\" class"
   ]
  },
  {
   "cell_type": "code",
   "execution_count": 6,
   "metadata": {},
   "outputs": [],
   "source": [
    "# 学習用（labelmeのアノテーションファイルが存在する場合）\n",
    "class ImageDevider_labelme2YOLO():\n",
    "    def __init__(self, out_y, out_x, overlap, output_img_folder, output_yolo_folder) -> None:\n",
    "        self.out_y = out_y\n",
    "        self.out_x = out_x\n",
    "        self.overlap = overlap\n",
    "        self.output_img_folder = output_img_folder\n",
    "        self.output_yolo_folder = output_yolo_folder\n",
    "\n",
    "    def devide_image(self, image_file, is_train=False):\n",
    "        # create json file name\n",
    "        basename = os.path.basename(image_file).split('.')[0]\n",
    "        basepath = os.path.dirname(image_file)\n",
    "        labelme_path = f\"{basepath}/{basename}.json\"\n",
    "\n",
    "        img = Image.open(image_file)\n",
    "        img_array = np.array(img)\n",
    "        in_y, in_x, _ = img_array.shape\n",
    "\n",
    "        num_images_y = in_y // self.out_y\n",
    "        num_images_x = in_x // self.out_x\n",
    "\n",
    "        # if crop images are lack at righet & bottom, num of image +1\n",
    "        if in_y - num_images_y * (self.out_y - self.overlap) > self.overlap:\n",
    "            num_images_y += 1\n",
    "        if in_x- num_images_x * (self.out_x - self.overlap) > self.overlap:\n",
    "            num_images_x += 1\n",
    "\n",
    "        # set index to rename save-file name , when save crop image and YOLO.txt\n",
    "        index = 0\n",
    "        for i in range(num_images_y):\n",
    "            for j in range(num_images_x):\n",
    "                start_y = np.maximum(0, i * (self.out_y - self.overlap))\n",
    "                start_x = np.maximum(0, j * (self.out_x - self.overlap))\n",
    "                end_y = i * (self.out_y - self.overlap) + self.out_y\n",
    "                end_x = j * (self.out_x - self.overlap) + self.out_x\n",
    "                output_array = img_array[start_y: end_y, start_x: end_x]\n",
    "                \n",
    "                img = cv2.copyMakeBorder(output_array, \n",
    "                                   0, self.out_y - output_array.shape[0], \n",
    "                                   0, self.out_x - output_array.shape[1], \n",
    "                                   cv2.BORDER_CONSTANT, \n",
    "                                   0)\n",
    "                img = cv2.cvtColor(img, cv2.COLOR_BGR2RGB)\n",
    "\n",
    "                yolo_list = [] # strage anotation data / image\n",
    "                # get labelme data to YOLO\n",
    "                if os.path.exists(labelme_path):\n",
    "                    with open(labelme_path, 'r') as f:\n",
    "                        labelme_data = json.load(f)\n",
    "                    for shape in labelme_data['shapes']:\n",
    "                        _yolo_list = []\n",
    "                        # get point datas eg.[[start x, start y],[end x, end y]]\n",
    "                        for point in shape['points']:\n",
    "                            x, y = point # x, yの順\n",
    "                            # over 0 and under crop size\n",
    "                            crop_y = np.minimum(self.out_y, np.maximum(0, y - start_y))\n",
    "                            crop_x = np.minimum(self.out_x, np.maximum(0, x - start_x))\n",
    "                            _yolo_list.append(crop_x / self.out_x) # x y の順\n",
    "                            _yolo_list.append(crop_y / self.out_y)\n",
    "                        sx, sy, ex, ey = _yolo_list\n",
    "                        if sx != ex and sy != ey:\n",
    "                            yolo_list.append([label2index[shape['label']], \n",
    "                                            (sx + ex) / 2, \n",
    "                                            (sy + ey) / 2, \n",
    "                                            (ex - sx), \n",
    "                                            (ey - sy)])\n",
    "\n",
    "                # save image and YOLOtxt\n",
    "                if is_train:\n",
    "                    if len(yolo_list) != 0:\n",
    "                        yolo_df = pd.DataFrame(yolo_list)\n",
    "                        yolo_df.to_csv(self.output_yolo_folder + f'{basename}_{index:02}.txt', sep=(' '), header=None, index=None)\n",
    "                        cv2.imwrite(self.output_img_folder + f'{basename}_{index:02}.png', img)\n",
    "                else:\n",
    "                    cv2.imwrite(self.output_img_folder + f'{basename}_{index:02}.png', img)\n",
    "                    if len(yolo_list) != 0:\n",
    "                        yolo_df = pd.DataFrame(yolo_list)\n",
    "                        yolo_df.to_csv(self.output_yolo_folder + f'{basename}_{index:02}.txt', sep=(' '), header=None, index=None)\n",
    "\n",
    "                index += 1\n",
    "\n"
   ]
  },
  {
   "cell_type": "markdown",
   "metadata": {},
   "source": [
    "# 使用例"
   ]
  },
  {
   "cell_type": "code",
   "execution_count": null,
   "metadata": {},
   "outputs": [],
   "source": [
    "output_image_folder = './output/images/'\n",
    "output_YOLO_folder = './output/labels/'\n",
    "\n",
    "labelme_file = './data/images/000.json' # 同じフォルダに000.jpegなど画像ファイルが存在"
   ]
  },
  {
   "cell_type": "code",
   "execution_count": 7,
   "metadata": {},
   "outputs": [],
   "source": [
    "\n",
    "crop_man_for_training = ImageDevider_labelme2YOLO(1280, 1280, 256, output_image_folder, output_YOLO_folder)"
   ]
  },
  {
   "cell_type": "code",
   "execution_count": 9,
   "metadata": {},
   "outputs": [],
   "source": [
    "crop_man_for_training.devide_image(labelme_file)"
   ]
  },
  {
   "cell_type": "code",
   "execution_count": null,
   "metadata": {},
   "outputs": [],
   "source": []
  }
 ],
 "metadata": {
  "kernelspec": {
   "display_name": "yolo_env",
   "language": "python",
   "name": "python3"
  },
  "language_info": {
   "codemirror_mode": {
    "name": "ipython",
    "version": 3
   },
   "file_extension": ".py",
   "mimetype": "text/x-python",
   "name": "python",
   "nbconvert_exporter": "python",
   "pygments_lexer": "ipython3",
   "version": "3.10.8"
  },
  "orig_nbformat": 4
 },
 "nbformat": 4,
 "nbformat_minor": 2
}
